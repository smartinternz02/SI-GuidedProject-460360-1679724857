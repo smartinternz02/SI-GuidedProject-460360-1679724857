{
 "cells": [
  {
   "cell_type": "code",
   "execution_count": 3,
   "id": "7383c1ad",
   "metadata": {},
   "outputs": [
    {
     "name": "stdout",
     "output_type": "stream",
     "text": [
      "1/1 [==============================] - 0s 122ms/step\n",
      "it is a negative review\n"
     ]
    }
   ],
   "source": [
    "from keras.models import load_model\n",
    "import numpy as np\n",
    "import pickle\n",
    "\n",
    "model = load_model('mymodel.h5')\n",
    "with open('count_vec.pkl', 'rb') as file:\n",
    "    cv = pickle.load(file)\n",
    "    entered_input=\" the food is worst\"\n",
    "    x_intent=cv.transform([entered_input])\n",
    "    y_pred=model.predict(x_intent)\n",
    "    if (y_pred > 0.5):\n",
    "        print(\"it is a positive review\")\n",
    "    else:\n",
    "        print(\"it is a negative review\")"
   ]
  },
  {
   "cell_type": "code",
   "execution_count": null,
   "id": "6a6a2063",
   "metadata": {},
   "outputs": [],
   "source": []
  }
 ],
 "metadata": {
  "kernelspec": {
   "display_name": "Python 3 (ipykernel)",
   "language": "python",
   "name": "python3"
  },
  "language_info": {
   "codemirror_mode": {
    "name": "ipython",
    "version": 3
   },
   "file_extension": ".py",
   "mimetype": "text/x-python",
   "name": "python",
   "nbconvert_exporter": "python",
   "pygments_lexer": "ipython3",
   "version": "3.10.9"
  }
 },
 "nbformat": 4,
 "nbformat_minor": 5
}
